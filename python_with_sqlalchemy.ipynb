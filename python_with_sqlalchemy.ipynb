{
  "nbformat": 4,
  "nbformat_minor": 0,
  "metadata": {
    "colab": {
      "provenance": []
    },
    "kernelspec": {
      "name": "python3",
      "display_name": "Python 3"
    },
    "language_info": {
      "name": "python"
    }
  },
  "cells": [
    {
      "cell_type": "markdown",
      "source": [
        "# **Integrando Python com SQLAlchemy**"
      ],
      "metadata": {
        "id": "waB2Dw7FlA9T"
      }
    },
    {
      "cell_type": "code",
      "execution_count": 1,
      "metadata": {
        "colab": {
          "base_uri": "https://localhost:8080/"
        },
        "id": "H6hGjXCDk5_N",
        "outputId": "41efbcbf-077f-4c8a-9865-639d69bbd88e"
      },
      "outputs": [
        {
          "output_type": "stream",
          "name": "stdout",
          "text": [
            "Looking in indexes: https://pypi.org/simple, https://us-python.pkg.dev/colab-wheels/public/simple/\n",
            "Requirement already satisfied: sqlalchemy in /usr/local/lib/python3.10/dist-packages (2.0.10)\n",
            "Requirement already satisfied: typing-extensions>=4.2.0 in /usr/local/lib/python3.10/dist-packages (from sqlalchemy) (4.5.0)\n",
            "Requirement already satisfied: greenlet!=0.4.17 in /usr/local/lib/python3.10/dist-packages (from sqlalchemy) (2.0.2)\n"
          ]
        }
      ],
      "source": [
        "!pip install sqlalchemy"
      ]
    },
    {
      "cell_type": "code",
      "source": [
        "from sqlalchemy import Column\n",
        "from sqlalchemy import create_engine\n",
        "from sqlalchemy import inspect\n",
        "from sqlalchemy import Integer\n",
        "from sqlalchemy import String\n",
        "from sqlalchemy import ForeignKey\n",
        "from sqlalchemy import Float\n",
        "from sqlalchemy import select\n",
        "from sqlalchemy import func\n",
        "from sqlalchemy.orm import declarative_base\n",
        "from sqlalchemy.orm import relationship\n",
        "from sqlalchemy.orm import Session\n",
        "from sqlalchemy.sql.lambdas import insp\n",
        "from sqlalchemy.types import CHAR"
      ],
      "metadata": {
        "id": "rp5L_KzMlT8m"
      },
      "execution_count": 2,
      "outputs": []
    },
    {
      "cell_type": "code",
      "source": [
        "Base = declarative_base()"
      ],
      "metadata": {
        "id": "zOMTvc65mgUo"
      },
      "execution_count": 3,
      "outputs": []
    },
    {
      "cell_type": "code",
      "source": [
        "class Cliente(Base):\n",
        "  __tablename__ = \"cliente\"\n",
        "  id = Column(Integer, primary_key = True)\n",
        "  nome = Column(String)\n",
        "  cpf = Column(String)\n",
        "  endereco = Column(String)\n",
        "\n",
        "  conta = relationship(\n",
        "      \"Conta\", \n",
        "      back_populates = \"cliente\", # Especifica o atributo correspondente na classe relacionada\n",
        "      cascade = \"all, delete-orphan\" # Quando um cliente é excluído, todas as suas contas relacionadas são excluídas também (all).\n",
        "  )\n",
        "\n",
        "  def __repr__(self):\n",
        "    \"\"\"\n",
        "      Retorna uma representação em string do objeto, para fins de depuração e exibição de informações.\n",
        "    \"\"\"\n",
        "    return f\"Cliente: (Id = {self.id}, Nome = {self.nome}, CPF = {self.cpf}, Endereço = {self.endereco})\"\n",
        "  \n",
        "class Conta(Base):\n",
        "  __tablename__ = \"conta\"\n",
        "  id = Column(Integer, primary_key = True)\n",
        "  tipo = Column(String(10), nullable = False)\n",
        "  numero = Column(String(10), nullable = False)\n",
        "  agencia = Column(Integer, nullable = False)\n",
        "  saldo = Column(Float, nullable = False)\n",
        "  cliente_id = Column(Integer, ForeignKey(\"cliente.id\"), nullable = False)\n",
        "\n",
        "  cliente = relationship(\n",
        "      \"Cliente\", \n",
        "      back_populates = \"conta\"\n",
        "  )\n",
        "\n",
        "  def __repr__(self):\n",
        "    return f\"Conta: (Id = {self.id}, Tipo = {self.tipo}, Número = {self.numero}, Agência = {self.agencia}, Saldo = {self.saldo})\"\n"
      ],
      "metadata": {
        "id": "3hTET_cemlzZ"
      },
      "execution_count": 4,
      "outputs": []
    },
    {
      "cell_type": "code",
      "source": [
        "# Conexão\n",
        "engine = create_engine(\"sqlite://\")"
      ],
      "metadata": {
        "id": "lxjU8e0f-ztP"
      },
      "execution_count": 5,
      "outputs": []
    },
    {
      "cell_type": "code",
      "source": [
        "# Criando as classes como tabelas no BDs\n",
        "Base.metadata.create_all(engine)"
      ],
      "metadata": {
        "id": "FLN32zO8_J9g"
      },
      "execution_count": 6,
      "outputs": []
    },
    {
      "cell_type": "code",
      "source": [
        "# Imprimindo o esquema do BD\n",
        "engine_inspector = inspect(engine)\n",
        "\n",
        "print(engine_inspector.has_table(\"conta\"))\n",
        "print(engine_inspector.get_table_names())"
      ],
      "metadata": {
        "colab": {
          "base_uri": "https://localhost:8080/"
        },
        "id": "4IGa5hWvAA7x",
        "outputId": "5250b39f-a869-4b9a-e19d-3e2bedee2190"
      },
      "execution_count": 7,
      "outputs": [
        {
          "output_type": "stream",
          "name": "stdout",
          "text": [
            "True\n",
            "['cliente', 'conta']\n"
          ]
        }
      ]
    },
    {
      "cell_type": "markdown",
      "source": [
        "# **Persistência dos dados**"
      ],
      "metadata": {
        "id": "_YJQg-jsA7Za"
      }
    },
    {
      "cell_type": "code",
      "source": [
        "with Session(engine) as session:\n",
        "  cliente_1 = Cliente(\n",
        "      nome = 'Maria Flor',\n",
        "      cpf = 12312312312,\n",
        "      endereco = 'Rua dos Bobos, 0 - Minas Gerais/MG',\n",
        "      conta = [Conta(tipo='Corrente', agencia='0001', numero=20232023, saldo=5000)]\n",
        "  )\n",
        "\n",
        "  cliente_2 = Cliente(\n",
        "      nome = 'João Gomes',\n",
        "      cpf = 12345678910,\n",
        "      endereco = 'Rua Tupinambá, 1000 - Minas Gerais/MG',\n",
        "      conta = [Conta(tipo='Poupança', agencia='0001', numero=75895641, saldo=20)]\n",
        "  )"
      ],
      "metadata": {
        "id": "Pbrf1QplAxdh"
      },
      "execution_count": 8,
      "outputs": []
    },
    {
      "cell_type": "code",
      "source": [
        "# Adicionando uma lista de objetos ao banco de dados em uma única transação\n",
        "session.add_all([cliente_1, cliente_2])"
      ],
      "metadata": {
        "id": "ZrXGLkVI66R3"
      },
      "execution_count": 9,
      "outputs": []
    },
    {
      "cell_type": "code",
      "source": [
        "# Confirmando as alterações feitas aos objetos gerenciados pela sessão p/ enviar essas alterações para o banco de dados.\n",
        "session.commit()"
      ],
      "metadata": {
        "id": "OxrRZshAYCwj"
      },
      "execution_count": 10,
      "outputs": []
    },
    {
      "cell_type": "markdown",
      "source": [
        "# **Recuperando informações do BD**"
      ],
      "metadata": {
        "id": "rUrZg0D8aLIZ"
      }
    },
    {
      "cell_type": "code",
      "source": [
        "stmt = select(Cliente).where(Cliente.nome.in_(['Maria Flor', 'João Gomes']))\n",
        "for cliente in session.scalars(stmt):\n",
        "  print(cliente)"
      ],
      "metadata": {
        "id": "0Ruy8BWdY8Bu",
        "colab": {
          "base_uri": "https://localhost:8080/"
        },
        "outputId": "f469041e-5267-47ca-8cf5-443212d9eb7d"
      },
      "execution_count": 11,
      "outputs": [
        {
          "output_type": "stream",
          "name": "stdout",
          "text": [
            "Cliente: (Id = 1, Nome = Maria Flor, CPF = 12312312312, Endereço = Rua dos Bobos, 0 - Minas Gerais/MG)\n",
            "Cliente: (Id = 2, Nome = João Gomes, CPF = 12345678910, Endereço = Rua Tupinambá, 1000 - Minas Gerais/MG)\n"
          ]
        }
      ]
    },
    {
      "cell_type": "code",
      "source": [
        "conta_stmt = select(Conta).where(Conta.cliente_id.in_([2]))\n",
        "for conta in session.scalars(conta_stmt):\n",
        "  print(conta)"
      ],
      "metadata": {
        "colab": {
          "base_uri": "https://localhost:8080/"
        },
        "id": "MtDhKReMDMFG",
        "outputId": "c1b46904-52a3-4130-a0c9-a5849ff56fa3"
      },
      "execution_count": 12,
      "outputs": [
        {
          "output_type": "stream",
          "name": "stdout",
          "text": [
            "Conta: (Id = 2, Tipo = Poupança, Número = 75895641, Agência = 1, Saldo = 20.0)\n"
          ]
        }
      ]
    },
    {
      "cell_type": "markdown",
      "source": [
        "Recuperando dados de forma classificada"
      ],
      "metadata": {
        "id": "mtZSa847Hig-"
      }
    },
    {
      "cell_type": "code",
      "source": [
        "print(select(Cliente).order_by(Cliente.nome.desc()))"
      ],
      "metadata": {
        "colab": {
          "base_uri": "https://localhost:8080/"
        },
        "id": "2_qfTpt7G6oF",
        "outputId": "5c5aa0a5-0dac-4db1-98c8-d3ddb45dbe06"
      },
      "execution_count": 13,
      "outputs": [
        {
          "output_type": "stream",
          "name": "stdout",
          "text": [
            "SELECT cliente.id, cliente.nome, cliente.cpf, cliente.endereco \n",
            "FROM cliente ORDER BY cliente.nome DESC\n"
          ]
        }
      ]
    },
    {
      "cell_type": "code",
      "source": [
        "order_stmt = select(Cliente).order_by(Cliente.cpf.desc())\n",
        "for i, result in enumerate (session.scalars(order_stmt)):\n",
        "  print(f' Saída {i}: {result}')"
      ],
      "metadata": {
        "colab": {
          "base_uri": "https://localhost:8080/"
        },
        "id": "oxFNy4ocHk2b",
        "outputId": "1bff247c-8b50-4a69-dbc1-0e223c546456"
      },
      "execution_count": 14,
      "outputs": [
        {
          "output_type": "stream",
          "name": "stdout",
          "text": [
            " Saída 0: Cliente: (Id = 2, Nome = João Gomes, CPF = 12345678910, Endereço = Rua Tupinambá, 1000 - Minas Gerais/MG)\n",
            " Saída 1: Cliente: (Id = 1, Nome = Maria Flor, CPF = 12312312312, Endereço = Rua dos Bobos, 0 - Minas Gerais/MG)\n"
          ]
        }
      ]
    },
    {
      "cell_type": "code",
      "source": [
        "order_stmt = select(Cliente).order_by(Cliente.endereco.desc())\n",
        "for i in (session.scalars(order_stmt)):\n",
        "  print(i)"
      ],
      "metadata": {
        "colab": {
          "base_uri": "https://localhost:8080/"
        },
        "outputId": "a91bc545-0ea5-4b40-d45d-8fb7d64ba613",
        "id": "8fxqacetIiTc"
      },
      "execution_count": 15,
      "outputs": [
        {
          "output_type": "stream",
          "name": "stdout",
          "text": [
            "Cliente: (Id = 1, Nome = Maria Flor, CPF = 12312312312, Endereço = Rua dos Bobos, 0 - Minas Gerais/MG)\n",
            "Cliente: (Id = 2, Nome = João Gomes, CPF = 12345678910, Endereço = Rua Tupinambá, 1000 - Minas Gerais/MG)\n"
          ]
        }
      ]
    },
    {
      "cell_type": "markdown",
      "source": [
        "Join Statment"
      ],
      "metadata": {
        "id": "mvgsBN5bJb-q"
      }
    },
    {
      "cell_type": "code",
      "source": [
        "print(select(Cliente.nome, Conta.tipo).join_from(Cliente, Conta))"
      ],
      "metadata": {
        "colab": {
          "base_uri": "https://localhost:8080/"
        },
        "id": "ZMoeCZ6XJemg",
        "outputId": "9ad8d654-c2b5-4f4b-834b-005f601d39bb"
      },
      "execution_count": 16,
      "outputs": [
        {
          "output_type": "stream",
          "name": "stdout",
          "text": [
            "SELECT cliente.nome, conta.tipo \n",
            "FROM cliente JOIN conta ON cliente.id = conta.cliente_id\n"
          ]
        }
      ]
    },
    {
      "cell_type": "code",
      "source": [
        "join_stmt = select(Cliente.nome, Conta.saldo).join_from(Cliente, Conta)\n",
        "\n",
        "for result in session.scalars(join_stmt):\n",
        "  print (result)"
      ],
      "metadata": {
        "colab": {
          "base_uri": "https://localhost:8080/"
        },
        "id": "8wesKnxDKG1s",
        "outputId": "eaeb1f02-fddb-4adf-bbca-9892553544ae"
      },
      "execution_count": 17,
      "outputs": [
        {
          "output_type": "stream",
          "name": "stdout",
          "text": [
            "Maria Flor\n",
            "João Gomes\n"
          ]
        }
      ]
    },
    {
      "cell_type": "markdown",
      "source": [
        "Fetch all"
      ],
      "metadata": {
        "id": "pUYG2DiF0M-n"
      }
    },
    {
      "cell_type": "code",
      "source": [
        "connection = engine.connect()\n",
        "results = connection.execute(join_stmt).fetchall()\n",
        "print('Executando statement a partir da connection. Nome e Saldo\\n')\n",
        "for result in results:\n",
        "  print(result)\n"
      ],
      "metadata": {
        "id": "PeJBDwY80PnO",
        "colab": {
          "base_uri": "https://localhost:8080/"
        },
        "outputId": "d610d1e4-8333-425f-cace-394846944b5a"
      },
      "execution_count": 19,
      "outputs": [
        {
          "output_type": "stream",
          "name": "stdout",
          "text": [
            "Executando statement a partir da connection. Nome e Saldo\n",
            "\n",
            "('Maria Flor', 5000.0)\n",
            "('João Gomes', 20.0)\n"
          ]
        }
      ]
    }
  ]
}